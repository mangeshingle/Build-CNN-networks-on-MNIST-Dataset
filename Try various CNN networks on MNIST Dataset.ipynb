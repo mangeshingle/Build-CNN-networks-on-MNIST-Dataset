{
 "cells": [
  {
   "cell_type": "markdown",
   "metadata": {},
   "source": [
    "# <center> Build various CNN networks on MNIST dataset. </center>\n",
    "___"
   ]
  },
  {
   "cell_type": "markdown",
   "metadata": {},
   "source": [
    "###  <b>Exercise</b> :\n",
    "1.\tUse MNIST dataset, which is present in keras datasets.\n",
    "2.\tAlso try 3-different convolution model, with 3,5 and 7 convolution layer.\n",
    "3.\tTry 3-different kernels like 3X3, 4X4 and 5X5 kernels.\n",
    "4.\tAlso use dropout and batch normalization and plot train-test error vs epochs for each model.\n",
    "5.\tWrite your observations in English as crisply and unambiguously as possible. Always quantify your results.\n",
    "\n"
   ]
  },
  {
   "cell_type": "markdown",
   "metadata": {},
   "source": [
    "### Information regarding data set :\n",
    "\n",
    "1. <b>Title</b>: MNIST database of handwritten digits \n",
    "\n",
    "2. <b>Sources</b>: Modified National Institute of Standards and Technology(MNIST)\n",
    "\n",
    "3. <b>Relevant Information</b>: The MNIST database of handwritten digits, available from the page(http://yann.lecun.com/exdb/mnist/), has a training set of 60,000 examples, and a test set of 10,000 examples. It is a subset of a larger set available from NIST. The digits have been size-normalized and centered in a fixed-size image.."
   ]
  },
  {
   "cell_type": "code",
   "execution_count": 1,
   "metadata": {},
   "outputs": [
    {
     "name": "stderr",
     "output_type": "stream",
     "text": [
      "Using TensorFlow backend.\n"
     ]
    }
   ],
   "source": [
    "import warnings\n",
    "from sklearn.exceptions import DataConversionWarning\n",
    "warnings.filterwarnings(action='ignore', category=DataConversionWarning)\n",
    "\n",
    "# For plotting purposes\n",
    "import matplotlib.pyplot as plt\n",
    "import seaborn as sns\n",
    "from sklearn.preprocessing import MinMaxScaler\n",
    "from keras.utils import to_categorical\n",
    "from keras.models import Sequential \n",
    "from keras.initializers import he_normal\n",
    "from keras.layers import BatchNormalization, Conv2D, Dense, Dropout, Flatten, MaxPooling2D\n",
    "from keras import backend as K\n",
    "\n",
    "# Import MNIST Dataset\n",
    "from keras.datasets import mnist"
   ]
  },
  {
   "cell_type": "code",
   "execution_count": 2,
   "metadata": {},
   "outputs": [],
   "source": [
    "# Load and split MNIST dataset\n",
    "(x_train,y_train),(x_test,y_test) = mnist.load_data()"
   ]
  },
  {
   "cell_type": "code",
   "execution_count": 3,
   "metadata": {},
   "outputs": [
    {
     "name": "stdout",
     "output_type": "stream",
     "text": [
      "x_train shape:  (60000, 28, 28)\n",
      "x_test shape:  (10000, 28, 28)\n",
      "Number of training examples : 60000 and each image is of shape (28, 28)\n",
      "Number of testing examples : 10000 and each image is of shape (28, 28)\n"
     ]
    }
   ],
   "source": [
    "print(\"x_train shape: \", x_train.shape)\n",
    "print(\"x_test shape: \", x_test.shape)\n",
    "print(\"Number of training examples :\", x_train.shape[0], \"and each image is of shape (%d, %d)\"%(x_train.shape[1], x_train.shape[2]))\n",
    "print(\"Number of testing examples :\", x_test.shape[0], \"and each image is of shape (%d, %d)\"%(x_test.shape[1], x_test.shape[2]))"
   ]
  },
  {
   "cell_type": "code",
   "execution_count": 4,
   "metadata": {},
   "outputs": [
    {
     "name": "stdout",
     "output_type": "stream",
     "text": [
      "Input shape:  (28, 28, 1)\n",
      "x_train shape: (60000, 28, 28, 1)\n",
      "x_test shape: (10000, 28, 28, 1)\n",
      "60000 train samples\n",
      "10000 test samples\n"
     ]
    }
   ],
   "source": [
    "# Input image dimensions\n",
    "image_rows, image_columns = 28, 28\n",
    "\n",
    "# Number of target class labels\n",
    "target_class_label_count = 10\n",
    "\n",
    "# Input shape\n",
    "input_shape = tuple()\n",
    "\n",
    "if K.image_data_format() == 'channels_first':    \n",
    "    # Theano dimension order\n",
    "    x_train = x_train.reshape(x_train.shape[0], 1, image_rows, image_columns)\n",
    "    x_test = x_test.reshape(x_test.shape[0], 1, image_rows, image_columns)\n",
    "    input_shape = (1, image_rows, image_columns)\n",
    "else:\n",
    "    # TensorFlow dimension order\n",
    "    x_train = x_train.reshape(x_train.shape[0], image_rows, image_columns, 1)\n",
    "    x_test = x_test.reshape(x_test.shape[0], image_rows, image_columns, 1)\n",
    "    input_shape = (image_rows, image_columns, 1)\n",
    "    \n",
    "print(\"Input shape: \",input_shape)\n",
    "\n",
    "x_train = x_train.astype('float32')\n",
    "x_test = x_test.astype('float32')\n",
    "\n",
    "x_train /= 255\n",
    "x_test /= 255\n",
    "\n",
    "print('x_train shape:', x_train.shape)\n",
    "print('x_test shape:', x_test.shape)\n",
    "print(x_train.shape[0], 'train samples')\n",
    "print(x_test.shape[0], 'test samples')\n",
    "\n",
    "# Convert class vectors to binary class matrices\n",
    "y_train = to_categorical(y_train,target_class_label_count)\n",
    "y_test = to_categorical(y_test,target_class_label_count)"
   ]
  },
  {
   "cell_type": "code",
   "execution_count": 5,
   "metadata": {},
   "outputs": [],
   "source": [
    "# Plot train and cross validation loss\n",
    "def plot_train_cv_loss(trained_model, epochs, colors=['b']):\n",
    "    fig, ax = plt.subplots(1,1)    \n",
    "    ax.set_xlabel('epoch') \n",
    "    ax.set_ylabel('Categorical Crossentropy Loss')\n",
    "    x_axis_values = list(range(1,epochs+1))\n",
    "\n",
    "    validation_loss = trained_model.history['val_loss']\n",
    "    train_loss = trained_model.history['loss']   \n",
    "    \n",
    "    ax.plot(x_axis_values, validation_loss, 'b', label=\"Validation Loss\")\n",
    "    ax.plot(x_axis_values, train_loss, 'r', label=\"Train Loss\")\n",
    "    plt.legend()\n",
    "    plt.grid()\n",
    "    fig.canvas.draw()   \n"
   ]
  },
  {
   "cell_type": "markdown",
   "metadata": {},
   "source": [
    "<br/>\n",
    "<br/>\n",
    "<br/>"
   ]
  },
  {
   "cell_type": "markdown",
   "metadata": {},
   "source": [
    "#### Model 1 : with 3-Convolution Layer and 3X3 kernel"
   ]
  },
  {
   "cell_type": "code",
   "execution_count": 6,
   "metadata": {},
   "outputs": [],
   "source": [
    "# Batch size \n",
    "batch_size = 128 \n",
    "\n",
    "# Number of time whole data is trained\n",
    "epochs = 15\n",
    "\n",
    "# 3X3 kernel\n",
    "kernel_3X3 = (3,3)\n",
    "\n",
    "# 5X5 kernel\n",
    "kernel_5X5 = (5,5)\n",
    "\n",
    "# 7X7 kernel\n",
    "kernel_7X7 = (7,7)\n",
    "\n",
    "# 2X2 max pool\n",
    "max_pool_2X2 = (2,2)\n",
    "\n",
    "# 3X3 max pool\n",
    "max_pool_3X3 = (3,3)\n",
    "\n",
    "# 4X4 max pool\n",
    "max_pool_4X4 = (4,4)"
   ]
  },
  {
   "cell_type": "code",
   "execution_count": 7,
   "metadata": {},
   "outputs": [
    {
     "name": "stdout",
     "output_type": "stream",
     "text": [
      "Model Summary: \n",
      "\n",
      "_________________________________________________________________\n",
      "Layer (type)                 Output Shape              Param #   \n",
      "=================================================================\n",
      "conv2d_1 (Conv2D)            (None, 26, 26, 32)        320       \n",
      "_________________________________________________________________\n",
      "batch_normalization_1 (Batch (None, 26, 26, 32)        128       \n",
      "_________________________________________________________________\n",
      "dropout_1 (Dropout)          (None, 26, 26, 32)        0         \n",
      "_________________________________________________________________\n",
      "conv2d_2 (Conv2D)            (None, 24, 24, 64)        18496     \n",
      "_________________________________________________________________\n",
      "max_pooling2d_1 (MaxPooling2 (None, 12, 12, 64)        0         \n",
      "_________________________________________________________________\n",
      "dropout_2 (Dropout)          (None, 12, 12, 64)        0         \n",
      "_________________________________________________________________\n",
      "conv2d_3 (Conv2D)            (None, 10, 10, 128)       73856     \n",
      "_________________________________________________________________\n",
      "max_pooling2d_2 (MaxPooling2 (None, 5, 5, 128)         0         \n",
      "_________________________________________________________________\n",
      "dropout_3 (Dropout)          (None, 5, 5, 128)         0         \n",
      "_________________________________________________________________\n",
      "flatten_1 (Flatten)          (None, 3200)              0         \n",
      "_________________________________________________________________\n",
      "dense_1 (Dense)              (None, 128)               409728    \n",
      "_________________________________________________________________\n",
      "dense_2 (Dense)              (None, 10)                1290      \n",
      "=================================================================\n",
      "Total params: 503,818\n",
      "Trainable params: 503,754\n",
      "Non-trainable params: 64\n",
      "_________________________________________________________________\n",
      "\n",
      "\n",
      "Train on 60000 samples, validate on 10000 samples\n",
      "Epoch 1/15\n",
      "60000/60000 [==============================] - 136s 2ms/step - loss: 0.3111 - acc: 0.9070 - val_loss: 0.0557 - val_acc: 0.9847\n",
      "Epoch 2/15\n",
      "60000/60000 [==============================] - 135s 2ms/step - loss: 0.0713 - acc: 0.9779 - val_loss: 0.0354 - val_acc: 0.9879\n",
      "Epoch 3/15\n",
      "60000/60000 [==============================] - 132s 2ms/step - loss: 0.0552 - acc: 0.9825 - val_loss: 0.0357 - val_acc: 0.9881\n",
      "Epoch 4/15\n",
      "60000/60000 [==============================] - 131s 2ms/step - loss: 0.0444 - acc: 0.9860 - val_loss: 0.0243 - val_acc: 0.9917\n",
      "Epoch 5/15\n",
      "60000/60000 [==============================] - 133s 2ms/step - loss: 0.0346 - acc: 0.9892 - val_loss: 0.0266 - val_acc: 0.9925\n",
      "Epoch 6/15\n",
      "60000/60000 [==============================] - 130s 2ms/step - loss: 0.0346 - acc: 0.9886 - val_loss: 0.0209 - val_acc: 0.9932\n",
      "Epoch 7/15\n",
      "60000/60000 [==============================] - 129s 2ms/step - loss: 0.0296 - acc: 0.9911 - val_loss: 0.0243 - val_acc: 0.9918\n",
      "Epoch 8/15\n",
      "60000/60000 [==============================] - 130s 2ms/step - loss: 0.0287 - acc: 0.9908 - val_loss: 0.0342 - val_acc: 0.9895\n",
      "Epoch 9/15\n",
      "60000/60000 [==============================] - 128s 2ms/step - loss: 0.0273 - acc: 0.9912 - val_loss: 0.0285 - val_acc: 0.9920\n",
      "Epoch 10/15\n",
      "60000/60000 [==============================] - 131s 2ms/step - loss: 0.0248 - acc: 0.9917 - val_loss: 0.0252 - val_acc: 0.9923\n",
      "Epoch 11/15\n",
      "60000/60000 [==============================] - 134s 2ms/step - loss: 0.0244 - acc: 0.9922 - val_loss: 0.0236 - val_acc: 0.9931\n",
      "Epoch 12/15\n",
      "60000/60000 [==============================] - 131s 2ms/step - loss: 0.0210 - acc: 0.9933 - val_loss: 0.0259 - val_acc: 0.9923\n",
      "Epoch 13/15\n",
      "60000/60000 [==============================] - 136s 2ms/step - loss: 0.0202 - acc: 0.9934 - val_loss: 0.0267 - val_acc: 0.9935\n",
      "Epoch 14/15\n",
      "60000/60000 [==============================] - 134s 2ms/step - loss: 0.0196 - acc: 0.9938 - val_loss: 0.0225 - val_acc: 0.9941\n",
      "Epoch 15/15\n",
      "60000/60000 [==============================] - 138s 2ms/step - loss: 0.0200 - acc: 0.9933 - val_loss: 0.0220 - val_acc: 0.9935\n"
     ]
    }
   ],
   "source": [
    "# Instantiate sequential model\n",
    "model = Sequential()\n",
    "\n",
    "# Add 1st hidden layer : Convolution Layer 1\n",
    "conv_layer1 = Conv2D(32,\n",
    "                         kernel_size=kernel_3X3,\n",
    "                         activation=\"relu\",\n",
    "                         input_shape=input_shape)\n",
    "model.add(conv_layer1)\n",
    "\n",
    "# Add batch normalization\n",
    "model.add(BatchNormalization())\n",
    "\n",
    "# Add dropout\n",
    "model.add(Dropout(0.25))\n",
    "\n",
    "\n",
    "# Add 2nd hidden layer : Convolution Layer 2\n",
    "conv_layer2 = Conv2D(64,\n",
    "                        kernel_size=kernel_3X3,\n",
    "                        activation=\"relu\")\n",
    "model.add(conv_layer2)\n",
    "\n",
    "# Add max pooling layer\n",
    "model.add(MaxPooling2D(pool_size=max_pool_2X2))\n",
    "\n",
    "# Add dropout\n",
    "model.add(Dropout(0.50))\n",
    "\n",
    "# Add 3rd hidden layer : Convolution Layer 3\n",
    "conv_layer3 = Conv2D(128,\n",
    "                        kernel_size=kernel_3X3,\n",
    "                        activation=\"relu\")\n",
    "model.add(conv_layer3)\n",
    "\n",
    "# Add max pooling layer\n",
    "model.add(MaxPooling2D(pool_size=max_pool_2X2))\n",
    "\n",
    "# Add dropout\n",
    "model.add(Dropout(0.25))\n",
    "\n",
    "# Convert data to 1-D array and perform normal MLP\n",
    "model.add(Flatten())\n",
    "\n",
    "# Convert to dense layer\n",
    "model.add(Dense(128, activation='relu'))\n",
    "\n",
    "# Output layer\n",
    "model.add(Dense(target_class_label_count, activation='softmax'))\n",
    "\n",
    "\n",
    "# Summary of the model\n",
    "print(\"Model Summary: \\n\")\n",
    "model.summary()\n",
    "print()\n",
    "print()\n",
    "\n",
    "# Compile the model\n",
    "model.compile(optimizer='adam', loss='categorical_crossentropy', metrics=['accuracy'])\n",
    "\n",
    "# Run the model\n",
    "trained_model = model.fit(x_train, y_train, batch_size = batch_size, epochs = epochs, verbose=1, validation_data=(x_test, y_test))"
   ]
  },
  {
   "cell_type": "code",
   "execution_count": 8,
   "metadata": {},
   "outputs": [
    {
     "name": "stdout",
     "output_type": "stream",
     "text": [
      "Test score: 0.021964074645725123\n",
      "Test accuracy: 99.35%\n"
     ]
    }
   ],
   "source": [
    "score = model.evaluate(x_test, y_test, verbose=0) \n",
    "print('Test score:', score[0]) \n",
    "print('Test accuracy: {0:.2f}%'.format(score[1]*100))"
   ]
  },
  {
   "cell_type": "code",
   "execution_count": 9,
   "metadata": {},
   "outputs": [
    {
     "name": "stdout",
     "output_type": "stream",
     "text": [
      "\n",
      "\n"
     ]
    },
    {
     "data": {
      "image/png": "[encoded data removed]",
      "text/plain": [
       "<Figure size 432x288 with 1 Axes>"
      ]
     },
     "metadata": {
      "needs_background": "light"
     },
     "output_type": "display_data"
    }
   ],
   "source": [
    "print()\n",
    "print()\n",
    "\n",
    "# Plot train and cross validation error\n",
    "plot_train_cv_loss(trained_model, epochs)"
   ]
  },
  {
   "cell_type": "markdown",
   "metadata": {},
   "source": [
    "<br/>\n",
    "\n",
    "#### On 13th epoch we find that validation error and train error comes together and then after follows the same path, so best value for epoch is between 13-14"
   ]
  },
  {
   "cell_type": "markdown",
   "metadata": {},
   "source": [
    "</br>\n",
    "</br>"
   ]
  },
  {
   "cell_type": "markdown",
   "metadata": {},
   "source": [
    "#### Model 2 : with 5-Convolution Layer and 5X5 kernel"
   ]
  },
  {
   "cell_type": "code",
   "execution_count": 10,
   "metadata": {},
   "outputs": [
    {
     "name": "stdout",
     "output_type": "stream",
     "text": [
      "Model Summary: \n",
      "\n",
      "_________________________________________________________________\n",
      "Layer (type)                 Output Shape              Param #   \n",
      "=================================================================\n",
      "conv2d_4 (Conv2D)            (None, 24, 24, 16)        416       \n",
      "_________________________________________________________________\n",
      "batch_normalization_2 (Batch (None, 24, 24, 16)        64        \n",
      "_________________________________________________________________\n",
      "max_pooling2d_3 (MaxPooling2 (None, 24, 24, 16)        0         \n",
      "_________________________________________________________________\n",
      "dropout_4 (Dropout)          (None, 24, 24, 16)        0         \n",
      "_________________________________________________________________\n",
      "conv2d_5 (Conv2D)            (None, 20, 20, 32)        12832     \n",
      "_________________________________________________________________\n",
      "max_pooling2d_4 (MaxPooling2 (None, 20, 20, 32)        0         \n",
      "_________________________________________________________________\n",
      "dropout_5 (Dropout)          (None, 20, 20, 32)        0         \n",
      "_________________________________________________________________\n",
      "conv2d_6 (Conv2D)            (None, 16, 16, 64)        51264     \n",
      "_________________________________________________________________\n",
      "max_pooling2d_5 (MaxPooling2 (None, 16, 16, 64)        0         \n",
      "_________________________________________________________________\n",
      "dropout_6 (Dropout)          (None, 16, 16, 64)        0         \n",
      "_________________________________________________________________\n",
      "conv2d_7 (Conv2D)            (None, 12, 12, 128)       204928    \n",
      "_________________________________________________________________\n",
      "batch_normalization_3 (Batch (None, 12, 12, 128)       512       \n",
      "_________________________________________________________________\n",
      "max_pooling2d_6 (MaxPooling2 (None, 12, 12, 128)       0         \n",
      "_________________________________________________________________\n",
      "dropout_7 (Dropout)          (None, 12, 12, 128)       0         \n",
      "_________________________________________________________________\n",
      "conv2d_8 (Conv2D)            (None, 8, 8, 256)         819456    \n",
      "_________________________________________________________________\n",
      "max_pooling2d_7 (MaxPooling2 (None, 8, 8, 256)         0         \n",
      "_________________________________________________________________\n",
      "dropout_8 (Dropout)          (None, 8, 8, 256)         0         \n",
      "_________________________________________________________________\n",
      "flatten_2 (Flatten)          (None, 16384)             0         \n",
      "_________________________________________________________________\n",
      "dense_3 (Dense)              (None, 260)               4260100   \n",
      "_________________________________________________________________\n",
      "dense_4 (Dense)              (None, 130)               33930     \n",
      "_________________________________________________________________\n",
      "batch_normalization_4 (Batch (None, 130)               520       \n",
      "_________________________________________________________________\n",
      "dropout_9 (Dropout)          (None, 130)               0         \n",
      "_________________________________________________________________\n",
      "dense_5 (Dense)              (None, 10)                1310      \n",
      "=================================================================\n",
      "Total params: 5,385,332\n",
      "Trainable params: 5,384,784\n",
      "Non-trainable params: 548\n",
      "_________________________________________________________________\n",
      "\n",
      "\n",
      "Train on 60000 samples, validate on 10000 samples\n",
      "Epoch 1/15\n",
      "60000/60000 [==============================] - 556s 9ms/step - loss: 0.4140 - acc: 0.8703 - val_loss: 1.3220 - val_acc: 0.6249\n",
      "Epoch 2/15\n",
      "60000/60000 [==============================] - 556s 9ms/step - loss: 0.0809 - acc: 0.9766 - val_loss: 0.1436 - val_acc: 0.9564\n",
      "Epoch 3/15\n",
      "60000/60000 [==============================] - 537s 9ms/step - loss: 0.0599 - acc: 0.9828 - val_loss: 0.0930 - val_acc: 0.9725\n",
      "Epoch 4/15\n",
      "60000/60000 [==============================] - 546s 9ms/step - loss: 0.0446 - acc: 0.9871 - val_loss: 0.0546 - val_acc: 0.9834\n",
      "Epoch 5/15\n",
      "60000/60000 [==============================] - 538s 9ms/step - loss: 0.0425 - acc: 0.9875 - val_loss: 0.0486 - val_acc: 0.9849\n",
      "Epoch 6/15\n",
      "60000/60000 [==============================] - 534s 9ms/step - loss: 0.0388 - acc: 0.9888 - val_loss: 0.0378 - val_acc: 0.9891\n",
      "Epoch 7/15\n",
      "60000/60000 [==============================] - 534s 9ms/step - loss: 0.0347 - acc: 0.9896 - val_loss: 0.0359 - val_acc: 0.9896\n",
      "Epoch 8/15\n",
      "60000/60000 [==============================] - 534s 9ms/step - loss: 0.0291 - acc: 0.9917 - val_loss: 0.0325 - val_acc: 0.9901\n",
      "Epoch 9/15\n",
      "60000/60000 [==============================] - 534s 9ms/step - loss: 0.0430 - acc: 0.9877 - val_loss: 0.0705 - val_acc: 0.9831\n",
      "Epoch 10/15\n",
      "60000/60000 [==============================] - 534s 9ms/step - loss: 0.0305 - acc: 0.9910 - val_loss: 0.0360 - val_acc: 0.9892\n",
      "Epoch 11/15\n",
      "60000/60000 [==============================] - 547s 9ms/step - loss: 0.0260 - acc: 0.9919 - val_loss: 0.0363 - val_acc: 0.9898\n",
      "Epoch 12/15\n",
      "60000/60000 [==============================] - 537s 9ms/step - loss: 0.0234 - acc: 0.9932 - val_loss: 0.0424 - val_acc: 0.9894\n",
      "Epoch 13/15\n",
      "60000/60000 [==============================] - 536s 9ms/step - loss: 0.0228 - acc: 0.9933 - val_loss: 0.0418 - val_acc: 0.9902\n",
      "Epoch 14/15\n",
      "60000/60000 [==============================] - 535s 9ms/step - loss: 0.0217 - acc: 0.9934 - val_loss: 0.0285 - val_acc: 0.9922\n",
      "Epoch 15/15\n",
      "60000/60000 [==============================] - 535s 9ms/step - loss: 0.0201 - acc: 0.9938 - val_loss: 0.0250 - val_acc: 0.9940\n",
      "Wall time: 2h 14min 56s\n"
     ]
    }
   ],
   "source": [
    "%%time\n",
    "\n",
    "# Instantiate sequential model\n",
    "model = Sequential()\n",
    "\n",
    "# Add 1st hidden layer : Convolution Layer 1\n",
    "conv_layer1 = Conv2D(16,                       \n",
    "                         kernel_size=kernel_5X5,\n",
    "                         activation=\"relu\",\n",
    "                         input_shape=input_shape,\n",
    "                         kernel_initializer='he_normal')\n",
    "model.add(conv_layer1)\n",
    "model.add(BatchNormalization())\n",
    "model.add(MaxPooling2D(pool_size=max_pool_3X3,strides=(1,1),padding=\"same\"))\n",
    "model.add(Dropout(0.25))\n",
    "\n",
    "\n",
    "# Add 2nd hidden layer : Convolution Layer 2\n",
    "conv_layer2 = Conv2D(32,                        \n",
    "                        kernel_size=kernel_5X5,\n",
    "                        activation=\"relu\",\n",
    "                        kernel_initializer='he_normal')\n",
    "model.add(conv_layer2)\n",
    "model.add(MaxPooling2D(pool_size=max_pool_3X3,strides=(1,1),padding=\"same\"))\n",
    "model.add(Dropout(0.25))\n",
    "\n",
    "\n",
    "# Add 3rd hidden layer : Convolution Layer 3\n",
    "conv_layer3 = Conv2D(64,                        \n",
    "                        kernel_size=kernel_5X5,\n",
    "                        activation=\"relu\",\n",
    "                        kernel_initializer='he_normal')\n",
    "model.add(conv_layer3)\n",
    "model.add(MaxPooling2D(pool_size=max_pool_3X3,strides=(1,1),padding=\"same\"))\n",
    "model.add(Dropout(0.25))\n",
    "\n",
    "# Add 4th hidden layer : Convolution Layer 4\n",
    "conv_layer4 = Conv2D(128,                        \n",
    "                        kernel_size=kernel_5X5,\n",
    "                        activation=\"relu\",\n",
    "                        kernel_initializer='he_normal')\n",
    "model.add(conv_layer4)\n",
    "model.add(BatchNormalization())\n",
    "model.add(MaxPooling2D(pool_size=max_pool_3X3,strides=(1,1),padding=\"same\"))\n",
    "model.add(Dropout(0.50))\n",
    "\n",
    "\n",
    "# Add 5th hidden layer : Convolution Layer 5\n",
    "conv_layer5 = Conv2D(256,                        \n",
    "                        kernel_size=kernel_5X5,\n",
    "                        activation=\"relu\",\n",
    "                        kernel_initializer='he_normal')\n",
    "model.add(conv_layer5)\n",
    "model.add(MaxPooling2D(pool_size=max_pool_3X3,strides=(1,1),padding=\"same\"))\n",
    "model.add(Dropout(0.50))\n",
    "\n",
    "\n",
    "# Convert data to 1-D array and perform normal MLP\n",
    "model.add(Flatten())\n",
    "\n",
    "# Convert to dense layer\n",
    "model.add(Dense(260, activation='relu'))\n",
    "\n",
    "# Convert to dense layer\n",
    "model.add(Dense(130, activation='relu'))\n",
    "\n",
    "# Add batch normalization\n",
    "model.add(BatchNormalization())\n",
    "\n",
    "# Add dropout\n",
    "model.add(Dropout(0.50))\n",
    "\n",
    "# Output layer\n",
    "model.add(Dense(target_class_label_count, activation='softmax'))\n",
    "\n",
    "\n",
    "# Summary of the model\n",
    "print(\"Model Summary: \\n\")\n",
    "model.summary()\n",
    "print()\n",
    "print()\n",
    "\n",
    "# Compile the model\n",
    "model.compile(optimizer='adam', loss='categorical_crossentropy', metrics=['accuracy'])\n",
    "\n",
    "# Run the model\n",
    "trained_model = model.fit(x_train, y_train, batch_size = batch_size, epochs = epochs, verbose=1, validation_data=(x_test, y_test))"
   ]
  },
  {
   "cell_type": "code",
   "execution_count": 11,
   "metadata": {},
   "outputs": [
    {
     "name": "stdout",
     "output_type": "stream",
     "text": [
      "Test score: 0.024988538761119707\n",
      "Test accuracy: 99.40%\n"
     ]
    }
   ],
   "source": [
    "score = model.evaluate(x_test, y_test, verbose=0) \n",
    "print('Test score:', score[0]) \n",
    "print('Test accuracy: {0:.2f}%'.format(score[1]*100))"
   ]
  },
  {
   "cell_type": "code",
   "execution_count": 12,
   "metadata": {},
   "outputs": [
    {
     "data": {
      "image/png": "[encoded data removed]",
      "text/plain": [
       "<Figure size 432x288 with 1 Axes>"
      ]
     },
     "metadata": {
      "needs_background": "light"
     },
     "output_type": "display_data"
    }
   ],
   "source": [
    "# Plot train and cross validation error\n",
    "plot_train_cv_loss(trained_model, epochs)"
   ]
  },
  {
   "cell_type": "markdown",
   "metadata": {},
   "source": [
    "<br/>\n",
    "\n",
    "#### On 4th epoch we find that validation error and train error comes together, so best value for epoch is between 2-4"
   ]
  },
  {
   "cell_type": "markdown",
   "metadata": {},
   "source": [
    "<br/>\n",
    "<br/>"
   ]
  },
  {
   "cell_type": "markdown",
   "metadata": {},
   "source": [
    "#### Model 3 : with 7-Convolution Layer and 7X7 kernel"
   ]
  },
  {
   "cell_type": "code",
   "execution_count": 19,
   "metadata": {},
   "outputs": [
    {
     "name": "stdout",
     "output_type": "stream",
     "text": [
      "Model Summary: \n",
      "\n",
      "_________________________________________________________________\n",
      "Layer (type)                 Output Shape              Param #   \n",
      "=================================================================\n",
      "conv2d_27 (Conv2D)           (None, 22, 22, 8)         400       \n",
      "_________________________________________________________________\n",
      "batch_normalization_12 (Batc (None, 22, 22, 8)         32        \n",
      "_________________________________________________________________\n",
      "max_pooling2d_23 (MaxPooling (None, 22, 22, 8)         0         \n",
      "_________________________________________________________________\n",
      "dropout_25 (Dropout)         (None, 22, 22, 8)         0         \n",
      "_________________________________________________________________\n",
      "conv2d_28 (Conv2D)           (None, 16, 16, 16)        6288      \n",
      "_________________________________________________________________\n",
      "max_pooling2d_24 (MaxPooling (None, 16, 16, 16)        0         \n",
      "_________________________________________________________________\n",
      "dropout_26 (Dropout)         (None, 16, 16, 16)        0         \n",
      "_________________________________________________________________\n",
      "conv2d_29 (Conv2D)           (None, 10, 10, 32)        25120     \n",
      "_________________________________________________________________\n",
      "max_pooling2d_25 (MaxPooling (None, 10, 10, 32)        0         \n",
      "_________________________________________________________________\n",
      "dropout_27 (Dropout)         (None, 10, 10, 32)        0         \n",
      "_________________________________________________________________\n",
      "conv2d_30 (Conv2D)           (None, 10, 10, 64)        100416    \n",
      "_________________________________________________________________\n",
      "batch_normalization_13 (Batc (None, 10, 10, 64)        256       \n",
      "_________________________________________________________________\n",
      "max_pooling2d_26 (MaxPooling (None, 10, 10, 64)        0         \n",
      "_________________________________________________________________\n",
      "dropout_28 (Dropout)         (None, 10, 10, 64)        0         \n",
      "_________________________________________________________________\n",
      "conv2d_31 (Conv2D)           (None, 10, 10, 128)       401536    \n",
      "_________________________________________________________________\n",
      "max_pooling2d_27 (MaxPooling (None, 10, 10, 128)       0         \n",
      "_________________________________________________________________\n",
      "dropout_29 (Dropout)         (None, 10, 10, 128)       0         \n",
      "_________________________________________________________________\n",
      "conv2d_32 (Conv2D)           (None, 10, 10, 256)       1605888   \n",
      "_________________________________________________________________\n",
      "batch_normalization_14 (Batc (None, 10, 10, 256)       1024      \n",
      "_________________________________________________________________\n",
      "max_pooling2d_28 (MaxPooling (None, 10, 10, 256)       0         \n",
      "_________________________________________________________________\n",
      "dropout_30 (Dropout)         (None, 10, 10, 256)       0         \n",
      "_________________________________________________________________\n",
      "conv2d_33 (Conv2D)           (None, 4, 4, 512)         6423040   \n",
      "_________________________________________________________________\n",
      "max_pooling2d_29 (MaxPooling (None, 4, 4, 512)         0         \n",
      "_________________________________________________________________\n",
      "dropout_31 (Dropout)         (None, 4, 4, 512)         0         \n",
      "_________________________________________________________________\n",
      "flatten_3 (Flatten)          (None, 8192)              0         \n",
      "_________________________________________________________________\n",
      "dense_6 (Dense)              (None, 520)               4260360   \n",
      "_________________________________________________________________\n",
      "dense_7 (Dense)              (None, 250)               130250    \n",
      "_________________________________________________________________\n",
      "dense_8 (Dense)              (None, 125)               31375     \n",
      "_________________________________________________________________\n",
      "batch_normalization_15 (Batc (None, 125)               500       \n",
      "_________________________________________________________________\n",
      "dropout_32 (Dropout)         (None, 125)               0         \n",
      "_________________________________________________________________\n",
      "dense_9 (Dense)              (None, 10)                1260      \n",
      "=================================================================\n",
      "Total params: 12,987,745\n",
      "Trainable params: 12,986,839\n",
      "Non-trainable params: 906\n",
      "_________________________________________________________________\n",
      "\n",
      "\n",
      "Train on 60000 samples, validate on 10000 samples\n",
      "Epoch 1/15\n",
      "60000/60000 [==============================] - 1463s 24ms/step - loss: 1.6370 - acc: 0.3783 - val_loss: 6.3652 - val_acc: 0.1684\n",
      "Epoch 2/15\n",
      "60000/60000 [==============================] - 2050s 34ms/step - loss: 0.3328 - acc: 0.9054 - val_loss: 0.4841 - val_acc: 0.8590\n",
      "Epoch 3/15\n",
      "60000/60000 [==============================] - 1445s 24ms/step - loss: 0.1203 - acc: 0.9685 - val_loss: 0.1466 - val_acc: 0.9627\n",
      "Epoch 4/15\n",
      "60000/60000 [==============================] - 1443s 24ms/step - loss: 0.0891 - acc: 0.9765 - val_loss: 0.2444 - val_acc: 0.9392\n",
      "Epoch 5/15\n",
      "60000/60000 [==============================] - 1446s 24ms/step - loss: 0.0778 - acc: 0.9794 - val_loss: 1.2826 - val_acc: 0.8897\n",
      "Epoch 6/15\n",
      "60000/60000 [==============================] - 1493s 25ms/step - loss: 0.0649 - acc: 0.9827 - val_loss: 0.0703 - val_acc: 0.9810\n",
      "Epoch 7/15\n",
      "60000/60000 [==============================] - 1443s 24ms/step - loss: 0.0580 - acc: 0.9846 - val_loss: 0.0572 - val_acc: 0.9836\n",
      "Epoch 8/15\n",
      "60000/60000 [==============================] - 1442s 24ms/step - loss: 0.0492 - acc: 0.9868 - val_loss: 0.0713 - val_acc: 0.9796\n",
      "Epoch 9/15\n",
      "60000/60000 [==============================] - 1445s 24ms/step - loss: 0.0497 - acc: 0.9865 - val_loss: 0.0572 - val_acc: 0.9843\n",
      "Epoch 10/15\n",
      "60000/60000 [==============================] - 1447s 24ms/step - loss: 0.0472 - acc: 0.9873 - val_loss: 0.0941 - val_acc: 0.9733\n",
      "Epoch 11/15\n",
      "60000/60000 [==============================] - 1446s 24ms/step - loss: 0.0435 - acc: 0.9880 - val_loss: 0.0997 - val_acc: 0.9711\n",
      "Epoch 12/15\n",
      "60000/60000 [==============================] - 1446s 24ms/step - loss: 0.0421 - acc: 0.9884 - val_loss: 0.0468 - val_acc: 0.9868\n",
      "Epoch 13/15\n",
      "60000/60000 [==============================] - 1447s 24ms/step - loss: 0.0418 - acc: 0.9886 - val_loss: 0.0373 - val_acc: 0.9910\n",
      "Epoch 14/15\n",
      "60000/60000 [==============================] - 1447s 24ms/step - loss: 0.0376 - acc: 0.9894 - val_loss: 0.0303 - val_acc: 0.9910\n",
      "Epoch 15/15\n",
      "60000/60000 [==============================] - 1571s 26ms/step - loss: 0.0353 - acc: 0.9907 - val_loss: 0.0411 - val_acc: 0.9891\n",
      "Wall time: 6h 14min 36s\n"
     ]
    }
   ],
   "source": [
    "%%time\n",
    "batch_size = 256\n",
    "\n",
    "# Instantiate sequential model\n",
    "model = Sequential()\n",
    "\n",
    "# Add 1st hidden layer : Convolution Layer 1\n",
    "conv_layer1 = Conv2D(8,\n",
    "                         kernel_size=kernel_7X7,\n",
    "                         activation=\"relu\",\n",
    "                         kernel_initializer='he_normal',\n",
    "                         input_shape=input_shape)\n",
    "model.add(conv_layer1)\n",
    "model.add(BatchNormalization())\n",
    "model.add(MaxPooling2D(pool_size=max_pool_4X4,strides=(1,1),padding=\"same\"))\n",
    "model.add(Dropout(0.25))\n",
    "\n",
    "\n",
    "# Add 2nd hidden layer : Convolution Layer 2\n",
    "conv_layer2 = Conv2D(16,                        \n",
    "                        kernel_size=kernel_7X7,\n",
    "                        kernel_initializer='he_normal',\n",
    "                        activation=\"relu\")\n",
    "model.add(conv_layer2)\n",
    "model.add(MaxPooling2D(pool_size=max_pool_4X4,strides=(1,1),padding=\"same\"))\n",
    "model.add(Dropout(0.25))\n",
    "\n",
    "\n",
    "# Add 3rd hidden layer : Convolution Layer 3\n",
    "conv_layer3 = Conv2D(32,                        \n",
    "                        kernel_size=kernel_7X7,\n",
    "                        kernel_initializer='he_normal',\n",
    "                        activation=\"relu\")\n",
    "model.add(conv_layer3)\n",
    "model.add(MaxPooling2D(pool_size=max_pool_4X4,strides=(1,1),padding=\"same\"))\n",
    "model.add(Dropout(0.25))\n",
    "\n",
    "# Add 4th hidden layer : Convolution Layer 4\n",
    "conv_layer4 = Conv2D(64,\n",
    "                        padding=\"same\",\n",
    "                        kernel_size=kernel_7X7,\n",
    "                        kernel_initializer='he_normal',\n",
    "                        activation=\"relu\")\n",
    "model.add(conv_layer4)\n",
    "model.add(BatchNormalization())\n",
    "model.add(MaxPooling2D(pool_size=max_pool_4X4,strides=(1,1),padding=\"same\"))\n",
    "model.add(Dropout(0.25))\n",
    "\n",
    "\n",
    "# Add 5th hidden layer : Convolution Layer 5\n",
    "conv_layer5 = Conv2D(128,\n",
    "                        padding=\"same\",\n",
    "                        kernel_size=kernel_7X7,\n",
    "                        kernel_initializer='he_normal',\n",
    "                        activation=\"relu\")\n",
    "model.add(conv_layer5)\n",
    "model.add(MaxPooling2D(pool_size=max_pool_4X4,strides=(1,1),padding=\"same\"))\n",
    "model.add(Dropout(0.25))\n",
    "\n",
    "# Add 6th hidden layer : Convolution Layer 6\n",
    "conv_layer6 = Conv2D(256,\n",
    "                        padding=\"same\",\n",
    "                        kernel_size=kernel_7X7,\n",
    "                        kernel_initializer='he_normal',\n",
    "                        activation=\"relu\")\n",
    "model.add(conv_layer6)\n",
    "model.add(BatchNormalization())\n",
    "model.add(MaxPooling2D(pool_size=max_pool_4X4,strides=(1,1),padding=\"same\"))\n",
    "model.add(Dropout(0.50))\n",
    "\n",
    "# Add 7th hidden layer : Convolution Layer 7\n",
    "conv_layer7 = Conv2D(512,                        \n",
    "                        kernel_size=kernel_7X7,\n",
    "                        kernel_initializer='he_normal',\n",
    "                        activation=\"relu\")\n",
    "model.add(conv_layer7)\n",
    "model.add(MaxPooling2D(pool_size=max_pool_4X4,strides=(1,1),padding=\"same\"))\n",
    "model.add(Dropout(0.50))\n",
    "\n",
    "\n",
    "# Convert data to 1-D array and perform normal MLP\n",
    "model.add(Flatten())\n",
    "\n",
    "# Convert to dense layer\n",
    "model.add(Dense(520, activation='relu'))\n",
    "\n",
    "# Convert to dense layer\n",
    "model.add(Dense(250, activation='relu'))\n",
    "\n",
    "# Convert to dense layer\n",
    "model.add(Dense(125, activation='relu'))\n",
    "\n",
    "# Add batch normalization\n",
    "model.add(BatchNormalization())\n",
    "\n",
    "# Add dropout\n",
    "model.add(Dropout(0.50))\n",
    "\n",
    "# Output layer\n",
    "model.add(Dense(target_class_label_count, activation='softmax'))\n",
    "\n",
    "\n",
    "# Summary of the model\n",
    "print(\"Model Summary: \\n\")\n",
    "model.summary()\n",
    "print()\n",
    "print()\n",
    "\n",
    "# Compile the model\n",
    "model.compile(optimizer='adam', loss='categorical_crossentropy', metrics=['accuracy'])\n",
    "\n",
    "# Run the model\n",
    "trained_model = model.fit(x_train, y_train, batch_size = batch_size, epochs = epochs, verbose=1, validation_data=(x_test, y_test))"
   ]
  },
  {
   "cell_type": "code",
   "execution_count": 20,
   "metadata": {},
   "outputs": [
    {
     "name": "stdout",
     "output_type": "stream",
     "text": [
      "Test score: 0.041122954766452315\n",
      "Test accuracy: 98.91%\n"
     ]
    }
   ],
   "source": [
    "score = model.evaluate(x_test, y_test, verbose=0) \n",
    "print('Test score:', score[0]) \n",
    "print('Test accuracy: {0:.2f}%'.format(score[1]*100))"
   ]
  },
  {
   "cell_type": "code",
   "execution_count": 21,
   "metadata": {},
   "outputs": [
    {
     "data": {
      "image/png": "[encoded data removed]",
      "text/plain": [
       "<Figure size 432x288 with 1 Axes>"
      ]
     },
     "metadata": {
      "needs_background": "light"
     },
     "output_type": "display_data"
    }
   ],
   "source": [
    "# Plot train and cross validation error\n",
    "plot_train_cv_loss(trained_model, epochs)"
   ]
  },
  {
   "cell_type": "markdown",
   "metadata": {},
   "source": [
    "<br/>\n",
    "\n",
    "#### On 6th epoch we find that validation error and train error comes together, and then after follows the same path."
   ]
  },
  {
   "cell_type": "markdown",
   "metadata": {},
   "source": [
    "<br/>\n",
    "<br/>"
   ]
  },
  {
   "cell_type": "markdown",
   "metadata": {},
   "source": [
    "---\n",
    "### Observations :\n",
    "---"
   ]
  },
  {
   "cell_type": "markdown",
   "metadata": {},
   "source": [
    "> 1. Tried different CNN architectures on MNIST dataset.\n",
    "> 2. 'Relu' is used as an activation function to develop deep CNN network. \n",
    "> 3. 'Adam' is used as an optimizer to develop deep CNN network. \n",
    "> 4. Introduced batch normalization, max-pooling and dropout in between hidden layers.\n",
    "> 5. Got 99.35, 99.40 and 98.91 accuracies for 2,3 and 5 hidden layers.\n",
    "> 6. Optimal epoch values are also calculated to avoid overfitting."
   ]
  }
 ],
 "metadata": {
  "kernelspec": {
   "display_name": "Python 3",
   "language": "python",
   "name": "python3"
  },
  "language_info": {
   "codemirror_mode": {
    "name": "ipython",
    "version": 3
   },
   "file_extension": ".py",
   "mimetype": "text/x-python",
   "name": "python",
   "nbconvert_exporter": "python",
   "pygments_lexer": "ipython3",
   "version": "3.6.6"
  }
 },
 "nbformat": 4,
 "nbformat_minor": 2
}
